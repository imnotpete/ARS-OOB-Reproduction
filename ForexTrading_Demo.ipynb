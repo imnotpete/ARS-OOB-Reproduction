{
 "cells": [
  {
   "cell_type": "code",
   "execution_count": null,
   "id": "a0bed929-ebbb-42e6-92ea-2d3db0635523",
   "metadata": {
    "scrolled": true
   },
   "outputs": [],
   "source": [
    "import time\n",
    "import datetime\n",
    "import pandas as pd\n",
    "from finrl_meta.env_fx_trading.env_fx import tgym\n",
    "from ray.rllib.agents.ars import ars"
   ]
  },
  {
   "cell_type": "markdown",
   "id": "32ffc884",
   "metadata": {},
   "source": [
    "# Training\n",
    "\n",
    "`train()` function based on `get_model()` and `train_model()` from finrl_meta's agents/rllib_models.py file. "
   ]
  },
  {
   "cell_type": "code",
   "execution_count": null,
   "id": "ecd1fc11-0018-46c9-a1c5-d2d7d0eeb8ca",
   "metadata": {
    "scrolled": true
   },
   "outputs": [],
   "source": [
    "def train(env, agent, if_vix = True,**kwargs):\n",
    "    import ray\n",
    "    \n",
    "    # Prepare\n",
    "    learning_rate = 2 ** -15\n",
    "    batch_size = 2 ** 11\n",
    "    gamma = 0.99\n",
    "    seed = 312\n",
    "    net_dimension = 2 ** 9\n",
    "    cwd = './'+str(agent)\n",
    "    total_episodes = 1\n",
    "    \n",
    "    df = pd.read_csv(\"./data/split/EURUSD/yearly/EURUSD_2022_0.csv\")\n",
    "        \n",
    "    model_config = ars.DEFAULT_CONFIG.copy()\n",
    "    model_config[\"env\"] = tgym\n",
    "    model_config[\"log_level\"] = \"WARN\"\n",
    "    model_config[\"seed\"] = seed\n",
    "    model_config[\"reuse_actors\"] = True\n",
    "    model_config[\"env_config\"] = {\n",
    "        \"if_train\": True,\n",
    "        'seed': seed,\n",
    "        'df': df\n",
    "    }\n",
    "    \n",
    "    # Train\n",
    "    ray.init(\n",
    "        ignore_reinit_error=True\n",
    "    )  # Other Ray APIs will not work until `ray.init()` is called.\n",
    "\n",
    "    trainer = ars.ARSTrainer(env=tgym, config=model_config)\n",
    "\n",
    "    for i in range(total_episodes):\n",
    "        trainer.train()\n",
    "\n",
    "    ray.shutdown()\n",
    "    \n",
    "    # Save\n",
    "    trainer.save(cwd)\n",
    "    print(f\"Model saved: {cwd}\")"
   ]
  },
  {
   "cell_type": "markdown",
   "id": "c50a66ba",
   "metadata": {},
   "source": [
    "Train the model - should only take a minute or two as configured"
   ]
  },
  {
   "cell_type": "code",
   "execution_count": null,
   "id": "a5b6cfe4-2bec-4135-b31b-60c8ac71d5aa",
   "metadata": {
    "scrolled": true
   },
   "outputs": [],
   "source": [
    "train(env=tgym,agent=\"ars\")"
   ]
  },
  {
   "cell_type": "markdown",
   "id": "12a3a497",
   "metadata": {},
   "source": [
    "# Testing\n",
    "\n",
    "Test script based on `DRLAgent.DRL_prediction()` from finrl_meta's agents/rllib_models.py file.\n",
    "\n",
    "The environment defines `action_space`:\n",
    "```\n",
    "self.action_space = spaces.Box(low=0,\n",
    "                               high=3,\n",
    "                               shape=(len(self.assets),))\n",
    "```\n",
    "\n",
    "Yet (usually) this is producing actions below 0, in the 0 to -1 range\n",
    "\n",
    "Other code built on this (modified environment, etc) where we have a -3 to 3 `Box` action space, sometimes sees actions as far out-of-bounds as +- 60."
   ]
  },
  {
   "cell_type": "code",
   "execution_count": null,
   "id": "40df8d7c-5f86-42bd-be09-c8317231c16f",
   "metadata": {
    "scrolled": false
   },
   "outputs": [],
   "source": [
    "import pandas as pd\n",
    "from finrl_meta.env_fx_trading.env_fx import tgym\n",
    "import time\n",
    "import datetime\n",
    "\n",
    "datafile =\"./data/split/EURUSD/weekly/EURUSD_2021_0.csv\"\n",
    "#datafile = \"./data/split/EURUSD/yearly/EURUSD_2022_0.csv\"\n",
    "df = pd.read_csv(datafile)\n",
    "\n",
    "agent_path='./ars/checkpoint_000001/checkpoint-1'\n",
    "\n",
    "env_config = {\n",
    "    \"df\": df,\n",
    "    \"if_train\": False,\n",
    "}\n",
    "model_config = ars.DEFAULT_CONFIG.copy()\n",
    "model_config[\"env\"] = tgym\n",
    "model_config[\"log_level\"] = \"DEBUG\"\n",
    "model_config[\"env_config\"] = env_config\n",
    "\n",
    "env_instance = tgym(config=env_config)\n",
    "\n",
    "trainer = ars.ARSTrainer(env=tgym, config=model_config)\n",
    "\n",
    "trainer.restore(agent_path)\n",
    "print(\"Restoring from checkpoint path\", agent_path)\n",
    "\n",
    "# test on the testing env\n",
    "state = env_instance.reset()\n",
    "episode_actions = list()\n",
    "oob_actions = list()\n",
    "done = False\n",
    "\n",
    "while not done:\n",
    "    action_raw = trainer.compute_single_action(state, explore=False)\n",
    "    state, _, done, _ = env_instance.step(action_raw)\n",
    "\n",
    "    action = action_raw[0]\n",
    "    if action <= env_instance.action_space.low or action >= env_instance.action_space.high:\n",
    "        print(f\"OOB action: {action}\")\n",
    "        oob_actions.append(action)\n",
    "\n",
    "    episode_actions.append(action)\n",
    "\n",
    "print(f\"episode actions:\\n{episode_actions}\")\n",
    "print(f\"\\n{len(oob_actions)} actions out of {len(episode_actions)} were out-of-bounds\")\n"
   ]
  },
  {
   "cell_type": "code",
   "execution_count": null,
   "id": "772ddf10",
   "metadata": {
    "scrolled": true
   },
   "outputs": [],
   "source": []
  }
 ],
 "metadata": {
  "interpreter": {
   "hash": "b5cbf5f3919493e81ecc3b85d0c032848d05d998b2f24661b916bdd5d1cc3a5e"
  },
  "kernelspec": {
   "display_name": "Python 3 (ipykernel)",
   "language": "python",
   "name": "python3"
  },
  "language_info": {
   "codemirror_mode": {
    "name": "ipython",
    "version": 3
   },
   "file_extension": ".py",
   "mimetype": "text/x-python",
   "name": "python",
   "nbconvert_exporter": "python",
   "pygments_lexer": "ipython3",
   "version": "3.7.13"
  }
 },
 "nbformat": 4,
 "nbformat_minor": 5
}
